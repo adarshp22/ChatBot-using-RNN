{
 "cells": [
  {
   "cell_type": "markdown",
   "metadata": {},
   "source": [
    "# Question and Answer Chat Bots"
   ]
  },
  {
   "cell_type": "markdown",
   "metadata": {},
   "source": []
  },
  {
   "cell_type": "code",
   "execution_count": 3,
   "metadata": {
    "execution": {
     "iopub.execute_input": "2025-08-17T18:46:10.440296Z",
     "iopub.status.busy": "2025-08-17T18:46:10.439663Z",
     "iopub.status.idle": "2025-08-17T18:46:10.446205Z",
     "shell.execute_reply": "2025-08-17T18:46:10.444959Z",
     "shell.execute_reply.started": "2025-08-17T18:46:10.440251Z"
    },
    "trusted": true
   },
   "outputs": [],
   "source": [
    "import pickle\n",
    "import numpy as np"
   ]
  },
  {
   "cell_type": "code",
   "execution_count": 4,
   "metadata": {
    "execution": {
     "iopub.execute_input": "2025-08-17T18:46:10.448310Z",
     "iopub.status.busy": "2025-08-17T18:46:10.447904Z",
     "iopub.status.idle": "2025-08-17T18:46:10.595108Z",
     "shell.execute_reply": "2025-08-17T18:46:10.593780Z",
     "shell.execute_reply.started": "2025-08-17T18:46:10.448279Z"
    },
    "trusted": true
   },
   "outputs": [],
   "source": [
    "with open(\"/kaggle/input/kaggle-dataset/train_qa.txt\", \"rb\") as fp:   # Unpickling\n",
    "    train_data =  pickle.load(fp)"
   ]
  },
  {
   "cell_type": "code",
   "execution_count": 5,
   "metadata": {
    "execution": {
     "iopub.execute_input": "2025-08-17T18:46:10.598896Z",
     "iopub.status.busy": "2025-08-17T18:46:10.597846Z",
     "iopub.status.idle": "2025-08-17T18:46:10.627756Z",
     "shell.execute_reply": "2025-08-17T18:46:10.626293Z",
     "shell.execute_reply.started": "2025-08-17T18:46:10.598847Z"
    },
    "trusted": true
   },
   "outputs": [],
   "source": [
    "with open(\"/kaggle/input/kaggle-dataset/test_qa.txt\", \"rb\") as fp:   # Unpickling\n",
    "    test_data =  pickle.load(fp)"
   ]
  },
  {
   "cell_type": "markdown",
   "metadata": {},
   "source": [
    "## Exploring the Format of the Data"
   ]
  },
  {
   "cell_type": "code",
   "execution_count": 6,
   "metadata": {
    "execution": {
     "iopub.execute_input": "2025-08-17T18:46:10.629703Z",
     "iopub.status.busy": "2025-08-17T18:46:10.629267Z",
     "iopub.status.idle": "2025-08-17T18:46:10.638493Z",
     "shell.execute_reply": "2025-08-17T18:46:10.637248Z",
     "shell.execute_reply.started": "2025-08-17T18:46:10.629654Z"
    },
    "trusted": true
   },
   "outputs": [
    {
     "data": {
      "text/plain": [
       "list"
      ]
     },
     "execution_count": 6,
     "metadata": {},
     "output_type": "execute_result"
    }
   ],
   "source": [
    "type(test_data)"
   ]
  },
  {
   "cell_type": "code",
   "execution_count": 7,
   "metadata": {
    "execution": {
     "iopub.execute_input": "2025-08-17T18:46:10.642562Z",
     "iopub.status.busy": "2025-08-17T18:46:10.642079Z",
     "iopub.status.idle": "2025-08-17T18:46:10.653437Z",
     "shell.execute_reply": "2025-08-17T18:46:10.652091Z",
     "shell.execute_reply.started": "2025-08-17T18:46:10.642501Z"
    },
    "trusted": true
   },
   "outputs": [
    {
     "data": {
      "text/plain": [
       "list"
      ]
     },
     "execution_count": 7,
     "metadata": {},
     "output_type": "execute_result"
    }
   ],
   "source": [
    "type(train_data)"
   ]
  },
  {
   "cell_type": "code",
   "execution_count": 8,
   "metadata": {
    "execution": {
     "iopub.execute_input": "2025-08-17T18:46:10.655663Z",
     "iopub.status.busy": "2025-08-17T18:46:10.655159Z",
     "iopub.status.idle": "2025-08-17T18:46:10.667608Z",
     "shell.execute_reply": "2025-08-17T18:46:10.666418Z",
     "shell.execute_reply.started": "2025-08-17T18:46:10.655620Z"
    },
    "trusted": true
   },
   "outputs": [
    {
     "data": {
      "text/plain": [
       "1000"
      ]
     },
     "execution_count": 8,
     "metadata": {},
     "output_type": "execute_result"
    }
   ],
   "source": [
    "len(test_data)"
   ]
  },
  {
   "cell_type": "code",
   "execution_count": 9,
   "metadata": {
    "execution": {
     "iopub.execute_input": "2025-08-17T18:46:10.669434Z",
     "iopub.status.busy": "2025-08-17T18:46:10.669055Z",
     "iopub.status.idle": "2025-08-17T18:46:10.684488Z",
     "shell.execute_reply": "2025-08-17T18:46:10.683121Z",
     "shell.execute_reply.started": "2025-08-17T18:46:10.669397Z"
    },
    "trusted": true
   },
   "outputs": [
    {
     "data": {
      "text/plain": [
       "10000"
      ]
     },
     "execution_count": 9,
     "metadata": {},
     "output_type": "execute_result"
    }
   ],
   "source": [
    "len(train_data)"
   ]
  },
  {
   "cell_type": "code",
   "execution_count": 10,
   "metadata": {
    "execution": {
     "iopub.execute_input": "2025-08-17T18:46:10.686328Z",
     "iopub.status.busy": "2025-08-17T18:46:10.685984Z",
     "iopub.status.idle": "2025-08-17T18:46:10.702300Z",
     "shell.execute_reply": "2025-08-17T18:46:10.700993Z",
     "shell.execute_reply.started": "2025-08-17T18:46:10.686301Z"
    },
    "trusted": true
   },
   "outputs": [
    {
     "data": {
      "text/plain": [
       "(['Mary',\n",
       "  'moved',\n",
       "  'to',\n",
       "  'the',\n",
       "  'bathroom',\n",
       "  '.',\n",
       "  'Sandra',\n",
       "  'journeyed',\n",
       "  'to',\n",
       "  'the',\n",
       "  'bedroom',\n",
       "  '.'],\n",
       " ['Is', 'Sandra', 'in', 'the', 'hallway', '?'],\n",
       " 'no')"
      ]
     },
     "execution_count": 10,
     "metadata": {},
     "output_type": "execute_result"
    }
   ],
   "source": [
    "train_data[0]"
   ]
  },
  {
   "cell_type": "code",
   "execution_count": 11,
   "metadata": {
    "execution": {
     "iopub.execute_input": "2025-08-17T18:46:10.704012Z",
     "iopub.status.busy": "2025-08-17T18:46:10.703625Z",
     "iopub.status.idle": "2025-08-17T18:46:10.719035Z",
     "shell.execute_reply": "2025-08-17T18:46:10.717426Z",
     "shell.execute_reply.started": "2025-08-17T18:46:10.703983Z"
    },
    "trusted": true
   },
   "outputs": [
    {
     "data": {
      "text/plain": [
       "'Mary moved to the bathroom . Sandra journeyed to the bedroom .'"
      ]
     },
     "execution_count": 11,
     "metadata": {},
     "output_type": "execute_result"
    }
   ],
   "source": [
    "' '.join(train_data[0][0])"
   ]
  },
  {
   "cell_type": "code",
   "execution_count": 12,
   "metadata": {
    "execution": {
     "iopub.execute_input": "2025-08-17T18:46:10.721241Z",
     "iopub.status.busy": "2025-08-17T18:46:10.720677Z",
     "iopub.status.idle": "2025-08-17T18:46:10.734985Z",
     "shell.execute_reply": "2025-08-17T18:46:10.733485Z",
     "shell.execute_reply.started": "2025-08-17T18:46:10.721182Z"
    },
    "trusted": true
   },
   "outputs": [
    {
     "data": {
      "text/plain": [
       "'Is Sandra in the hallway ?'"
      ]
     },
     "execution_count": 12,
     "metadata": {},
     "output_type": "execute_result"
    }
   ],
   "source": [
    "' '.join(train_data[0][1])"
   ]
  },
  {
   "cell_type": "code",
   "execution_count": 13,
   "metadata": {
    "execution": {
     "iopub.execute_input": "2025-08-17T18:46:10.740597Z",
     "iopub.status.busy": "2025-08-17T18:46:10.740222Z",
     "iopub.status.idle": "2025-08-17T18:46:10.750067Z",
     "shell.execute_reply": "2025-08-17T18:46:10.749005Z",
     "shell.execute_reply.started": "2025-08-17T18:46:10.740561Z"
    },
    "trusted": true
   },
   "outputs": [
    {
     "data": {
      "text/plain": [
       "'no'"
      ]
     },
     "execution_count": 13,
     "metadata": {},
     "output_type": "execute_result"
    }
   ],
   "source": [
    "train_data[0][2]"
   ]
  },
  {
   "cell_type": "markdown",
   "metadata": {},
   "source": [
    "-----\n",
    "\n",
    "## Setting up Vocabulary of All Words"
   ]
  },
  {
   "cell_type": "code",
   "execution_count": 14,
   "metadata": {
    "execution": {
     "iopub.execute_input": "2025-08-17T18:46:10.751747Z",
     "iopub.status.busy": "2025-08-17T18:46:10.751369Z",
     "iopub.status.idle": "2025-08-17T18:46:10.764597Z",
     "shell.execute_reply": "2025-08-17T18:46:10.763294Z",
     "shell.execute_reply.started": "2025-08-17T18:46:10.751719Z"
    },
    "trusted": true
   },
   "outputs": [],
   "source": [
    "# Create a set that holds the vocab words\n",
    "vocab = set()"
   ]
  },
  {
   "cell_type": "code",
   "execution_count": 15,
   "metadata": {
    "execution": {
     "iopub.execute_input": "2025-08-17T18:46:10.766614Z",
     "iopub.status.busy": "2025-08-17T18:46:10.766166Z",
     "iopub.status.idle": "2025-08-17T18:46:10.779143Z",
     "shell.execute_reply": "2025-08-17T18:46:10.777912Z",
     "shell.execute_reply.started": "2025-08-17T18:46:10.766573Z"
    },
    "trusted": true
   },
   "outputs": [],
   "source": [
    "all_data = test_data + train_data"
   ]
  },
  {
   "cell_type": "code",
   "execution_count": 16,
   "metadata": {
    "execution": {
     "iopub.execute_input": "2025-08-17T18:46:10.781731Z",
     "iopub.status.busy": "2025-08-17T18:46:10.781242Z",
     "iopub.status.idle": "2025-08-17T18:46:10.852246Z",
     "shell.execute_reply": "2025-08-17T18:46:10.850973Z",
     "shell.execute_reply.started": "2025-08-17T18:46:10.781688Z"
    },
    "trusted": true
   },
   "outputs": [],
   "source": [
    "for story, question , answer in all_data:\n",
    "    # In case you don't know what a union of sets is:\n",
    "    # https://www.programiz.com/python-programming/methods/set/union\n",
    "    vocab = vocab.union(set(story))\n",
    "    vocab = vocab.union(set(question))"
   ]
  },
  {
   "cell_type": "code",
   "execution_count": 17,
   "metadata": {
    "execution": {
     "iopub.execute_input": "2025-08-17T18:46:10.854176Z",
     "iopub.status.busy": "2025-08-17T18:46:10.853625Z",
     "iopub.status.idle": "2025-08-17T18:46:10.859424Z",
     "shell.execute_reply": "2025-08-17T18:46:10.858110Z",
     "shell.execute_reply.started": "2025-08-17T18:46:10.854135Z"
    },
    "trusted": true
   },
   "outputs": [],
   "source": [
    "vocab.add('no')\n",
    "vocab.add('yes')"
   ]
  },
  {
   "cell_type": "code",
   "execution_count": 18,
   "metadata": {
    "execution": {
     "iopub.execute_input": "2025-08-17T18:46:10.861325Z",
     "iopub.status.busy": "2025-08-17T18:46:10.860953Z",
     "iopub.status.idle": "2025-08-17T18:46:10.874909Z",
     "shell.execute_reply": "2025-08-17T18:46:10.873578Z",
     "shell.execute_reply.started": "2025-08-17T18:46:10.861291Z"
    },
    "trusted": true
   },
   "outputs": [
    {
     "data": {
      "text/plain": [
       "{'.',\n",
       " '?',\n",
       " 'Daniel',\n",
       " 'Is',\n",
       " 'John',\n",
       " 'Mary',\n",
       " 'Sandra',\n",
       " 'apple',\n",
       " 'back',\n",
       " 'bathroom',\n",
       " 'bedroom',\n",
       " 'discarded',\n",
       " 'down',\n",
       " 'dropped',\n",
       " 'football',\n",
       " 'garden',\n",
       " 'got',\n",
       " 'grabbed',\n",
       " 'hallway',\n",
       " 'in',\n",
       " 'journeyed',\n",
       " 'kitchen',\n",
       " 'left',\n",
       " 'milk',\n",
       " 'moved',\n",
       " 'no',\n",
       " 'office',\n",
       " 'picked',\n",
       " 'put',\n",
       " 'the',\n",
       " 'there',\n",
       " 'to',\n",
       " 'took',\n",
       " 'travelled',\n",
       " 'up',\n",
       " 'went',\n",
       " 'yes'}"
      ]
     },
     "execution_count": 18,
     "metadata": {},
     "output_type": "execute_result"
    }
   ],
   "source": [
    "vocab"
   ]
  },
  {
   "cell_type": "code",
   "execution_count": 19,
   "metadata": {
    "execution": {
     "iopub.execute_input": "2025-08-17T18:46:10.876860Z",
     "iopub.status.busy": "2025-08-17T18:46:10.876417Z",
     "iopub.status.idle": "2025-08-17T18:46:10.887712Z",
     "shell.execute_reply": "2025-08-17T18:46:10.886417Z",
     "shell.execute_reply.started": "2025-08-17T18:46:10.876817Z"
    },
    "trusted": true
   },
   "outputs": [],
   "source": [
    "vocab_len = len(vocab) + 1 #we add an extra space to hold a 0 for Keras's pad_sequences"
   ]
  },
  {
   "cell_type": "code",
   "execution_count": 20,
   "metadata": {
    "execution": {
     "iopub.execute_input": "2025-08-17T18:46:10.889623Z",
     "iopub.status.busy": "2025-08-17T18:46:10.889161Z",
     "iopub.status.idle": "2025-08-17T18:46:10.907732Z",
     "shell.execute_reply": "2025-08-17T18:46:10.906607Z",
     "shell.execute_reply.started": "2025-08-17T18:46:10.889581Z"
    },
    "trusted": true
   },
   "outputs": [],
   "source": [
    "max_story_len = max([len(data[0]) for data in all_data])"
   ]
  },
  {
   "cell_type": "code",
   "execution_count": 21,
   "metadata": {
    "execution": {
     "iopub.execute_input": "2025-08-17T18:46:10.909809Z",
     "iopub.status.busy": "2025-08-17T18:46:10.909156Z",
     "iopub.status.idle": "2025-08-17T18:46:10.925220Z",
     "shell.execute_reply": "2025-08-17T18:46:10.923571Z",
     "shell.execute_reply.started": "2025-08-17T18:46:10.909778Z"
    },
    "trusted": true
   },
   "outputs": [
    {
     "data": {
      "text/plain": [
       "156"
      ]
     },
     "execution_count": 21,
     "metadata": {},
     "output_type": "execute_result"
    }
   ],
   "source": [
    "max_story_len"
   ]
  },
  {
   "cell_type": "code",
   "execution_count": 22,
   "metadata": {
    "execution": {
     "iopub.execute_input": "2025-08-17T18:46:10.926698Z",
     "iopub.status.busy": "2025-08-17T18:46:10.926342Z",
     "iopub.status.idle": "2025-08-17T18:46:10.938330Z",
     "shell.execute_reply": "2025-08-17T18:46:10.937058Z",
     "shell.execute_reply.started": "2025-08-17T18:46:10.926670Z"
    },
    "trusted": true
   },
   "outputs": [],
   "source": [
    "max_question_len = max([len(data[1]) for data in all_data])"
   ]
  },
  {
   "cell_type": "code",
   "execution_count": 23,
   "metadata": {
    "execution": {
     "iopub.execute_input": "2025-08-17T18:46:10.940151Z",
     "iopub.status.busy": "2025-08-17T18:46:10.939795Z",
     "iopub.status.idle": "2025-08-17T18:46:10.953661Z",
     "shell.execute_reply": "2025-08-17T18:46:10.952308Z",
     "shell.execute_reply.started": "2025-08-17T18:46:10.940123Z"
    },
    "trusted": true
   },
   "outputs": [
    {
     "data": {
      "text/plain": [
       "6"
      ]
     },
     "execution_count": 23,
     "metadata": {},
     "output_type": "execute_result"
    }
   ],
   "source": [
    "max_question_len"
   ]
  },
  {
   "cell_type": "markdown",
   "metadata": {},
   "source": [
    "## Vectorizing the Data"
   ]
  },
  {
   "cell_type": "code",
   "execution_count": 24,
   "metadata": {
    "execution": {
     "iopub.execute_input": "2025-08-17T18:46:10.955427Z",
     "iopub.status.busy": "2025-08-17T18:46:10.955088Z",
     "iopub.status.idle": "2025-08-17T18:46:10.973494Z",
     "shell.execute_reply": "2025-08-17T18:46:10.972218Z",
     "shell.execute_reply.started": "2025-08-17T18:46:10.955397Z"
    },
    "trusted": true
   },
   "outputs": [
    {
     "data": {
      "text/plain": [
       "{'.',\n",
       " '?',\n",
       " 'Daniel',\n",
       " 'Is',\n",
       " 'John',\n",
       " 'Mary',\n",
       " 'Sandra',\n",
       " 'apple',\n",
       " 'back',\n",
       " 'bathroom',\n",
       " 'bedroom',\n",
       " 'discarded',\n",
       " 'down',\n",
       " 'dropped',\n",
       " 'football',\n",
       " 'garden',\n",
       " 'got',\n",
       " 'grabbed',\n",
       " 'hallway',\n",
       " 'in',\n",
       " 'journeyed',\n",
       " 'kitchen',\n",
       " 'left',\n",
       " 'milk',\n",
       " 'moved',\n",
       " 'no',\n",
       " 'office',\n",
       " 'picked',\n",
       " 'put',\n",
       " 'the',\n",
       " 'there',\n",
       " 'to',\n",
       " 'took',\n",
       " 'travelled',\n",
       " 'up',\n",
       " 'went',\n",
       " 'yes'}"
      ]
     },
     "execution_count": 24,
     "metadata": {},
     "output_type": "execute_result"
    }
   ],
   "source": [
    "vocab"
   ]
  },
  {
   "cell_type": "code",
   "execution_count": 25,
   "metadata": {
    "execution": {
     "iopub.execute_input": "2025-08-17T18:46:10.976407Z",
     "iopub.status.busy": "2025-08-17T18:46:10.975297Z",
     "iopub.status.idle": "2025-08-17T18:46:10.985178Z",
     "shell.execute_reply": "2025-08-17T18:46:10.983833Z",
     "shell.execute_reply.started": "2025-08-17T18:46:10.976362Z"
    },
    "trusted": true
   },
   "outputs": [],
   "source": [
    "# Reserve 0 for pad_sequences\n",
    "vocab_size = len(vocab) + 1"
   ]
  },
  {
   "cell_type": "markdown",
   "metadata": {},
   "source": [
    "-----------"
   ]
  },
  {
   "cell_type": "code",
   "execution_count": 26,
   "metadata": {
    "execution": {
     "iopub.execute_input": "2025-08-17T18:46:10.987565Z",
     "iopub.status.busy": "2025-08-17T18:46:10.986550Z",
     "iopub.status.idle": "2025-08-17T18:46:21.193795Z",
     "shell.execute_reply": "2025-08-17T18:46:21.192465Z",
     "shell.execute_reply.started": "2025-08-17T18:46:10.987491Z"
    },
    "trusted": true
   },
   "outputs": [],
   "source": [
    "from tensorflow.keras.preprocessing.sequence import pad_sequences\n",
    "from keras.preprocessing.text import Tokenizer"
   ]
  },
  {
   "cell_type": "code",
   "execution_count": 27,
   "metadata": {
    "execution": {
     "iopub.execute_input": "2025-08-17T18:46:21.195780Z",
     "iopub.status.busy": "2025-08-17T18:46:21.195182Z",
     "iopub.status.idle": "2025-08-17T18:46:21.201950Z",
     "shell.execute_reply": "2025-08-17T18:46:21.200643Z",
     "shell.execute_reply.started": "2025-08-17T18:46:21.195749Z"
    },
    "trusted": true
   },
   "outputs": [],
   "source": [
    "# integer encode sequences of words\n",
    "tokenizer = Tokenizer(filters=[])\n",
    "tokenizer.fit_on_texts(vocab)"
   ]
  },
  {
   "cell_type": "code",
   "execution_count": 28,
   "metadata": {
    "execution": {
     "iopub.execute_input": "2025-08-17T18:46:21.203843Z",
     "iopub.status.busy": "2025-08-17T18:46:21.203421Z",
     "iopub.status.idle": "2025-08-17T18:46:21.221290Z",
     "shell.execute_reply": "2025-08-17T18:46:21.220055Z",
     "shell.execute_reply.started": "2025-08-17T18:46:21.203799Z"
    },
    "trusted": true
   },
   "outputs": [
    {
     "data": {
      "text/plain": [
       "{'apple': 1,\n",
       " 'garden': 2,\n",
       " 'down': 3,\n",
       " 'yes': 4,\n",
       " 'john': 5,\n",
       " 'moved': 6,\n",
       " 'back': 7,\n",
       " 'put': 8,\n",
       " 'grabbed': 9,\n",
       " 'football': 10,\n",
       " 'to': 11,\n",
       " 'sandra': 12,\n",
       " 'bathroom': 13,\n",
       " 'kitchen': 14,\n",
       " 'mary': 15,\n",
       " 'in': 16,\n",
       " 'journeyed': 17,\n",
       " '?': 18,\n",
       " 'got': 19,\n",
       " 'hallway': 20,\n",
       " 'no': 21,\n",
       " 'dropped': 22,\n",
       " 'picked': 23,\n",
       " '.': 24,\n",
       " 'discarded': 25,\n",
       " 'office': 26,\n",
       " 'left': 27,\n",
       " 'travelled': 28,\n",
       " 'the': 29,\n",
       " 'bedroom': 30,\n",
       " 'milk': 31,\n",
       " 'is': 32,\n",
       " 'took': 33,\n",
       " 'went': 34,\n",
       " 'there': 35,\n",
       " 'up': 36,\n",
       " 'daniel': 37}"
      ]
     },
     "execution_count": 28,
     "metadata": {},
     "output_type": "execute_result"
    }
   ],
   "source": [
    "tokenizer.word_index"
   ]
  },
  {
   "cell_type": "code",
   "execution_count": 29,
   "metadata": {
    "execution": {
     "iopub.execute_input": "2025-08-17T18:46:21.223352Z",
     "iopub.status.busy": "2025-08-17T18:46:21.223022Z",
     "iopub.status.idle": "2025-08-17T18:46:21.239028Z",
     "shell.execute_reply": "2025-08-17T18:46:21.237813Z",
     "shell.execute_reply.started": "2025-08-17T18:46:21.223322Z"
    },
    "trusted": true
   },
   "outputs": [],
   "source": [
    "train_story_text = []\n",
    "train_question_text = []\n",
    "train_answers = []\n",
    "\n",
    "for story,question,answer in train_data:\n",
    "    train_story_text.append(story)\n",
    "    train_question_text.append(question)"
   ]
  },
  {
   "cell_type": "code",
   "execution_count": 30,
   "metadata": {
    "execution": {
     "iopub.execute_input": "2025-08-17T18:46:21.241132Z",
     "iopub.status.busy": "2025-08-17T18:46:21.240731Z",
     "iopub.status.idle": "2025-08-17T18:46:21.383889Z",
     "shell.execute_reply": "2025-08-17T18:46:21.382384Z",
     "shell.execute_reply.started": "2025-08-17T18:46:21.241102Z"
    },
    "trusted": true
   },
   "outputs": [],
   "source": [
    "train_story_seq = tokenizer.texts_to_sequences(train_story_text)"
   ]
  },
  {
   "cell_type": "code",
   "execution_count": 31,
   "metadata": {
    "execution": {
     "iopub.execute_input": "2025-08-17T18:46:21.392125Z",
     "iopub.status.busy": "2025-08-17T18:46:21.391735Z",
     "iopub.status.idle": "2025-08-17T18:46:21.399307Z",
     "shell.execute_reply": "2025-08-17T18:46:21.398155Z",
     "shell.execute_reply.started": "2025-08-17T18:46:21.392096Z"
    },
    "trusted": true
   },
   "outputs": [
    {
     "data": {
      "text/plain": [
       "10000"
      ]
     },
     "execution_count": 31,
     "metadata": {},
     "output_type": "execute_result"
    }
   ],
   "source": [
    "len(train_story_text)"
   ]
  },
  {
   "cell_type": "code",
   "execution_count": 32,
   "metadata": {
    "execution": {
     "iopub.execute_input": "2025-08-17T18:46:21.401024Z",
     "iopub.status.busy": "2025-08-17T18:46:21.400685Z",
     "iopub.status.idle": "2025-08-17T18:46:21.415128Z",
     "shell.execute_reply": "2025-08-17T18:46:21.413641Z",
     "shell.execute_reply.started": "2025-08-17T18:46:21.400995Z"
    },
    "trusted": true
   },
   "outputs": [
    {
     "data": {
      "text/plain": [
       "10000"
      ]
     },
     "execution_count": 32,
     "metadata": {},
     "output_type": "execute_result"
    }
   ],
   "source": [
    "len(train_story_seq)"
   ]
  },
  {
   "cell_type": "code",
   "execution_count": 33,
   "metadata": {
    "execution": {
     "iopub.execute_input": "2025-08-17T18:46:21.416945Z",
     "iopub.status.busy": "2025-08-17T18:46:21.416591Z",
     "iopub.status.idle": "2025-08-17T18:46:21.426272Z",
     "shell.execute_reply": "2025-08-17T18:46:21.425049Z",
     "shell.execute_reply.started": "2025-08-17T18:46:21.416917Z"
    },
    "trusted": true
   },
   "outputs": [],
   "source": [
    "# word_index = tokenizer.word_index"
   ]
  },
  {
   "cell_type": "markdown",
   "metadata": {},
   "source": [
    "### Functionalize Vectorization"
   ]
  },
  {
   "cell_type": "code",
   "execution_count": 34,
   "metadata": {
    "execution": {
     "iopub.execute_input": "2025-08-17T18:46:21.428707Z",
     "iopub.status.busy": "2025-08-17T18:46:21.428206Z",
     "iopub.status.idle": "2025-08-17T18:46:21.442271Z",
     "shell.execute_reply": "2025-08-17T18:46:21.441223Z",
     "shell.execute_reply.started": "2025-08-17T18:46:21.428663Z"
    },
    "trusted": true
   },
   "outputs": [],
   "source": [
    "def vectorize_stories(data, word_index=tokenizer.word_index, max_story_len=max_story_len,max_question_len=max_question_len):\n",
    "    '''\n",
    "    INPUT: \n",
    "    \n",
    "    data: consisting of Stories,Queries,and Answers\n",
    "    word_index: word index dictionary from tokenizer\n",
    "    max_story_len: the length of the longest story (used for pad_sequences function)\n",
    "    max_question_len: length of the longest question (used for pad_sequences function)\n",
    "\n",
    "\n",
    "    OUTPUT:\n",
    "    \n",
    "    Vectorizes the stories,questions, and answers into padded sequences. We first loop for every story, query , and\n",
    "    answer in the data. Then we convert the raw words to an word index value. Then we append each set to their appropriate\n",
    "    output list. Then once we have converted the words to numbers, we pad the sequences so they are all of equal length.\n",
    "    \n",
    "    Returns this in the form of a tuple (X,Xq,Y) (padded based on max lengths)\n",
    "    '''\n",
    "    \n",
    "    \n",
    "    # X = STORIES\n",
    "    X = []\n",
    "    # Xq = QUERY/QUESTION\n",
    "    Xq = []\n",
    "    # Y = CORRECT ANSWER\n",
    "    Y = []\n",
    "    \n",
    "    \n",
    "    for story, query, answer in data:\n",
    "        \n",
    "        # Grab the word index for every word in story\n",
    "        x = [word_index[word.lower()] for word in story]\n",
    "        # Grab the word index for every word in query\n",
    "        xq = [word_index[word.lower()] for word in query]\n",
    "        \n",
    "        # Grab the Answers (either Yes/No so we don't need to use list comprehension here)\n",
    "        # Index 0 is reserved so we're going to use + 1\n",
    "        y = np.zeros(len(word_index) + 1)\n",
    "        \n",
    "        # Now that y is all zeros and we know its just Yes/No , we can use numpy logic to create this assignment\n",
    "        #\n",
    "        y[word_index[answer]] = 1\n",
    "        \n",
    "        # Append each set of story,query, and answer to their respective holding lists\n",
    "        X.append(x)\n",
    "        Xq.append(xq)\n",
    "        Y.append(y)\n",
    "        \n",
    "    # Finally, pad the sequences based on their max length so the RNN can be trained on uniformly long sequences.\n",
    "        \n",
    "    # RETURN TUPLE FOR UNPACKING\n",
    "    return (pad_sequences(X, maxlen=max_story_len),pad_sequences(Xq, maxlen=max_question_len), np.array(Y))"
   ]
  },
  {
   "cell_type": "code",
   "execution_count": 35,
   "metadata": {
    "execution": {
     "iopub.execute_input": "2025-08-17T18:46:21.444038Z",
     "iopub.status.busy": "2025-08-17T18:46:21.443698Z",
     "iopub.status.idle": "2025-08-17T18:46:21.838648Z",
     "shell.execute_reply": "2025-08-17T18:46:21.837414Z",
     "shell.execute_reply.started": "2025-08-17T18:46:21.444012Z"
    },
    "trusted": true
   },
   "outputs": [],
   "source": [
    "inputs_train, queries_train, answers_train = vectorize_stories(train_data)"
   ]
  },
  {
   "cell_type": "code",
   "execution_count": 36,
   "metadata": {
    "execution": {
     "iopub.execute_input": "2025-08-17T18:46:21.841584Z",
     "iopub.status.busy": "2025-08-17T18:46:21.840388Z",
     "iopub.status.idle": "2025-08-17T18:46:21.866782Z",
     "shell.execute_reply": "2025-08-17T18:46:21.865273Z",
     "shell.execute_reply.started": "2025-08-17T18:46:21.841508Z"
    },
    "trusted": true
   },
   "outputs": [],
   "source": [
    "inputs_test, queries_test, answers_test = vectorize_stories(test_data)"
   ]
  },
  {
   "cell_type": "code",
   "execution_count": 37,
   "metadata": {
    "execution": {
     "iopub.execute_input": "2025-08-17T18:46:21.869013Z",
     "iopub.status.busy": "2025-08-17T18:46:21.868677Z",
     "iopub.status.idle": "2025-08-17T18:46:21.877218Z",
     "shell.execute_reply": "2025-08-17T18:46:21.875995Z",
     "shell.execute_reply.started": "2025-08-17T18:46:21.868985Z"
    },
    "trusted": true
   },
   "outputs": [
    {
     "data": {
      "text/plain": [
       "array([[ 0,  0,  0, ..., 29, 30, 24],\n",
       "       [ 0,  0,  0, ..., 29,  2, 24],\n",
       "       [ 0,  0,  0, ..., 29,  2, 24],\n",
       "       ...,\n",
       "       [ 0,  0,  0, ..., 29,  1, 24],\n",
       "       [ 0,  0,  0, ..., 29,  2, 24],\n",
       "       [ 0,  0,  0, ...,  1, 35, 24]], dtype=int32)"
      ]
     },
     "execution_count": 37,
     "metadata": {},
     "output_type": "execute_result"
    }
   ],
   "source": [
    "inputs_test"
   ]
  },
  {
   "cell_type": "code",
   "execution_count": 38,
   "metadata": {
    "execution": {
     "iopub.execute_input": "2025-08-17T18:46:21.879235Z",
     "iopub.status.busy": "2025-08-17T18:46:21.878863Z",
     "iopub.status.idle": "2025-08-17T18:46:21.893221Z",
     "shell.execute_reply": "2025-08-17T18:46:21.892021Z",
     "shell.execute_reply.started": "2025-08-17T18:46:21.879184Z"
    },
    "trusted": true
   },
   "outputs": [
    {
     "data": {
      "text/plain": [
       "array([[32,  5, 16, 29, 14, 18],\n",
       "       [32,  5, 16, 29, 14, 18],\n",
       "       [32,  5, 16, 29,  2, 18],\n",
       "       ...,\n",
       "       [32, 15, 16, 29, 30, 18],\n",
       "       [32, 12, 16, 29,  2, 18],\n",
       "       [32, 15, 16, 29,  2, 18]], dtype=int32)"
      ]
     },
     "execution_count": 38,
     "metadata": {},
     "output_type": "execute_result"
    }
   ],
   "source": [
    "queries_test"
   ]
  },
  {
   "cell_type": "code",
   "execution_count": 39,
   "metadata": {
    "execution": {
     "iopub.execute_input": "2025-08-17T18:46:21.895227Z",
     "iopub.status.busy": "2025-08-17T18:46:21.894768Z",
     "iopub.status.idle": "2025-08-17T18:46:21.905189Z",
     "shell.execute_reply": "2025-08-17T18:46:21.903946Z",
     "shell.execute_reply.started": "2025-08-17T18:46:21.895186Z"
    },
    "trusted": true
   },
   "outputs": [
    {
     "data": {
      "text/plain": [
       "array([[0., 0., 0., ..., 0., 0., 0.],\n",
       "       [0., 0., 0., ..., 0., 0., 0.],\n",
       "       [0., 0., 0., ..., 0., 0., 0.],\n",
       "       ...,\n",
       "       [0., 0., 0., ..., 0., 0., 0.],\n",
       "       [0., 0., 0., ..., 0., 0., 0.],\n",
       "       [0., 0., 0., ..., 0., 0., 0.]])"
      ]
     },
     "execution_count": 39,
     "metadata": {},
     "output_type": "execute_result"
    }
   ],
   "source": [
    "answers_test"
   ]
  },
  {
   "cell_type": "code",
   "execution_count": 40,
   "metadata": {
    "execution": {
     "iopub.execute_input": "2025-08-17T18:46:21.907354Z",
     "iopub.status.busy": "2025-08-17T18:46:21.906918Z",
     "iopub.status.idle": "2025-08-17T18:46:21.921378Z",
     "shell.execute_reply": "2025-08-17T18:46:21.919855Z",
     "shell.execute_reply.started": "2025-08-17T18:46:21.907320Z"
    },
    "trusted": true
   },
   "outputs": [
    {
     "data": {
      "text/plain": [
       "array([  0.,   0.,   0.,   0., 497.,   0.,   0.,   0.,   0.,   0.,   0.,\n",
       "         0.,   0.,   0.,   0.,   0.,   0.,   0.,   0.,   0.,   0., 503.,\n",
       "         0.,   0.,   0.,   0.,   0.,   0.,   0.,   0.,   0.,   0.,   0.,\n",
       "         0.,   0.,   0.,   0.,   0.])"
      ]
     },
     "execution_count": 40,
     "metadata": {},
     "output_type": "execute_result"
    }
   ],
   "source": [
    "sum(answers_test)"
   ]
  },
  {
   "cell_type": "code",
   "execution_count": 41,
   "metadata": {
    "execution": {
     "iopub.execute_input": "2025-08-17T18:46:21.923305Z",
     "iopub.status.busy": "2025-08-17T18:46:21.922902Z",
     "iopub.status.idle": "2025-08-17T18:46:21.936948Z",
     "shell.execute_reply": "2025-08-17T18:46:21.935804Z",
     "shell.execute_reply.started": "2025-08-17T18:46:21.923274Z"
    },
    "trusted": true
   },
   "outputs": [
    {
     "data": {
      "text/plain": [
       "4"
      ]
     },
     "execution_count": 41,
     "metadata": {},
     "output_type": "execute_result"
    }
   ],
   "source": [
    "tokenizer.word_index['yes']"
   ]
  },
  {
   "cell_type": "code",
   "execution_count": 42,
   "metadata": {
    "execution": {
     "iopub.execute_input": "2025-08-17T18:46:21.939310Z",
     "iopub.status.busy": "2025-08-17T18:46:21.938847Z",
     "iopub.status.idle": "2025-08-17T18:46:21.950724Z",
     "shell.execute_reply": "2025-08-17T18:46:21.949585Z",
     "shell.execute_reply.started": "2025-08-17T18:46:21.939267Z"
    },
    "trusted": true
   },
   "outputs": [
    {
     "data": {
      "text/plain": [
       "21"
      ]
     },
     "execution_count": 42,
     "metadata": {},
     "output_type": "execute_result"
    }
   ],
   "source": [
    "tokenizer.word_index['no']"
   ]
  },
  {
   "cell_type": "markdown",
   "metadata": {},
   "source": [
    "## Creating the Model"
   ]
  },
  {
   "cell_type": "code",
   "execution_count": 43,
   "metadata": {
    "execution": {
     "iopub.execute_input": "2025-08-17T18:46:21.952250Z",
     "iopub.status.busy": "2025-08-17T18:46:21.951915Z",
     "iopub.status.idle": "2025-08-17T18:46:21.964168Z",
     "shell.execute_reply": "2025-08-17T18:46:21.962895Z",
     "shell.execute_reply.started": "2025-08-17T18:46:21.952221Z"
    },
    "trusted": true
   },
   "outputs": [],
   "source": [
    "from keras.models import Sequential, Model\n",
    "from keras.layers import Embedding\n",
    "from keras.layers import Input, Activation, Dense, Permute, Dropout\n",
    "from keras.layers import add, dot, concatenate\n",
    "from keras.layers import LSTM"
   ]
  },
  {
   "cell_type": "markdown",
   "metadata": {},
   "source": [
    "### Placeholders for Inputs\n",
    "\n",
    "Recall we technically have two inputs, stories and questions. So we need to use placeholders. `Input()` is used to instantiate a Keras tensor.\n"
   ]
  },
  {
   "cell_type": "code",
   "execution_count": 44,
   "metadata": {
    "execution": {
     "iopub.execute_input": "2025-08-17T18:46:21.965873Z",
     "iopub.status.busy": "2025-08-17T18:46:21.965497Z",
     "iopub.status.idle": "2025-08-17T18:46:21.992718Z",
     "shell.execute_reply": "2025-08-17T18:46:21.991253Z",
     "shell.execute_reply.started": "2025-08-17T18:46:21.965845Z"
    },
    "trusted": true
   },
   "outputs": [],
   "source": [
    "input_sequence = Input((max_story_len,))\n",
    "question = Input((max_question_len,))"
   ]
  },
  {
   "cell_type": "markdown",
   "metadata": {},
   "source": [
    "### Building the Networks\n",
    "\n",
    "To understand why we chose this setup, make sure to read the paper we are using:\n",
    "\n",
    "* Sainbayar Sukhbaatar, Arthur Szlam, Jason Weston, Rob Fergus,\n",
    "  \"End-To-End Memory Networks\",\n",
    "  http://arxiv.org/abs/1503.08895"
   ]
  },
  {
   "cell_type": "markdown",
   "metadata": {},
   "source": [
    "## Encoders\n",
    "\n",
    "### Input Encoder m"
   ]
  },
  {
   "cell_type": "code",
   "execution_count": 45,
   "metadata": {
    "execution": {
     "iopub.execute_input": "2025-08-17T18:46:21.994496Z",
     "iopub.status.busy": "2025-08-17T18:46:21.994163Z",
     "iopub.status.idle": "2025-08-17T18:46:22.139693Z",
     "shell.execute_reply": "2025-08-17T18:46:22.138454Z",
     "shell.execute_reply.started": "2025-08-17T18:46:21.994470Z"
    },
    "trusted": true
   },
   "outputs": [],
   "source": [
    "# Input gets embedded to a sequence of vectors\n",
    "input_encoder_m = Sequential()\n",
    "input_encoder_m.add(Embedding(input_dim=vocab_size,output_dim=64))\n",
    "input_encoder_m.add(Dropout(0.3))\n",
    "\n",
    "# This encoder will output:\n",
    "# (samples, story_maxlen, embedding_dim)"
   ]
  },
  {
   "cell_type": "markdown",
   "metadata": {},
   "source": [
    "### Input Encoder c"
   ]
  },
  {
   "cell_type": "code",
   "execution_count": 46,
   "metadata": {
    "execution": {
     "iopub.execute_input": "2025-08-17T18:46:22.141265Z",
     "iopub.status.busy": "2025-08-17T18:46:22.140966Z",
     "iopub.status.idle": "2025-08-17T18:46:22.173105Z",
     "shell.execute_reply": "2025-08-17T18:46:22.171763Z",
     "shell.execute_reply.started": "2025-08-17T18:46:22.141240Z"
    },
    "trusted": true
   },
   "outputs": [],
   "source": [
    "# embed the input into a sequence of vectors of size query_maxlen\n",
    "input_encoder_c = Sequential()\n",
    "input_encoder_c.add(Embedding(input_dim=vocab_size,output_dim=max_question_len))\n",
    "input_encoder_c.add(Dropout(0.3))\n",
    "# output: (samples, story_maxlen, query_maxlen)"
   ]
  },
  {
   "cell_type": "markdown",
   "metadata": {},
   "source": [
    "### Question Encoder"
   ]
  },
  {
   "cell_type": "code",
   "execution_count": 47,
   "metadata": {
    "execution": {
     "iopub.execute_input": "2025-08-17T18:46:22.175113Z",
     "iopub.status.busy": "2025-08-17T18:46:22.174671Z",
     "iopub.status.idle": "2025-08-17T18:46:22.203201Z",
     "shell.execute_reply": "2025-08-17T18:46:22.202220Z",
     "shell.execute_reply.started": "2025-08-17T18:46:22.175071Z"
    },
    "trusted": true
   },
   "outputs": [],
   "source": [
    "# embed the question into a sequence of vectors\n",
    "question_encoder = Sequential()\n",
    "question_encoder.add(Embedding(input_dim=vocab_size,\n",
    "                               output_dim=64,\n",
    "                               input_length=max_question_len))\n",
    "question_encoder.add(Dropout(0.3))\n",
    "# output: (samples, query_maxlen, embedding_dim)"
   ]
  },
  {
   "cell_type": "markdown",
   "metadata": {},
   "source": [
    "### Encode the Sequences"
   ]
  },
  {
   "cell_type": "code",
   "execution_count": 48,
   "metadata": {
    "execution": {
     "iopub.execute_input": "2025-08-17T18:46:22.204943Z",
     "iopub.status.busy": "2025-08-17T18:46:22.204629Z",
     "iopub.status.idle": "2025-08-17T18:46:22.234458Z",
     "shell.execute_reply": "2025-08-17T18:46:22.233309Z",
     "shell.execute_reply.started": "2025-08-17T18:46:22.204916Z"
    },
    "trusted": true
   },
   "outputs": [],
   "source": [
    "# encode input sequence and questions (which are indices)\n",
    "# to sequences of dense vectors\n",
    "input_encoded_m = input_encoder_m(input_sequence)\n",
    "input_encoded_c = input_encoder_c(input_sequence)\n",
    "question_encoded = question_encoder(question)"
   ]
  },
  {
   "cell_type": "markdown",
   "metadata": {},
   "source": [
    "##### Use dot product to compute the match between first input vector seq and the query"
   ]
  },
  {
   "cell_type": "code",
   "execution_count": 49,
   "metadata": {
    "execution": {
     "iopub.execute_input": "2025-08-17T18:46:22.235907Z",
     "iopub.status.busy": "2025-08-17T18:46:22.235561Z",
     "iopub.status.idle": "2025-08-17T18:46:22.260942Z",
     "shell.execute_reply": "2025-08-17T18:46:22.259428Z",
     "shell.execute_reply.started": "2025-08-17T18:46:22.235869Z"
    },
    "trusted": true
   },
   "outputs": [],
   "source": [
    "# shape: `(samples, story_maxlen, query_maxlen)`\n",
    "match = dot([input_encoded_m, question_encoded], axes=(2, 2))\n",
    "match = Activation('softmax')(match)"
   ]
  },
  {
   "cell_type": "markdown",
   "metadata": {},
   "source": [
    "#### Add this match matrix with the second input vector sequence"
   ]
  },
  {
   "cell_type": "code",
   "execution_count": 50,
   "metadata": {
    "execution": {
     "iopub.execute_input": "2025-08-17T18:46:22.263672Z",
     "iopub.status.busy": "2025-08-17T18:46:22.262562Z",
     "iopub.status.idle": "2025-08-17T18:46:22.282307Z",
     "shell.execute_reply": "2025-08-17T18:46:22.280741Z",
     "shell.execute_reply.started": "2025-08-17T18:46:22.263625Z"
    },
    "trusted": true
   },
   "outputs": [],
   "source": [
    "# add the match matrix with the second input vector sequence\n",
    "response = add([match, input_encoded_c])  # (samples, story_maxlen, query_maxlen)\n",
    "response = Permute((2, 1))(response)  # (samples, query_maxlen, story_maxlen)"
   ]
  },
  {
   "cell_type": "markdown",
   "metadata": {},
   "source": [
    "#### Concatenate"
   ]
  },
  {
   "cell_type": "code",
   "execution_count": 51,
   "metadata": {
    "execution": {
     "iopub.execute_input": "2025-08-17T18:46:22.284409Z",
     "iopub.status.busy": "2025-08-17T18:46:22.284009Z",
     "iopub.status.idle": "2025-08-17T18:46:22.296777Z",
     "shell.execute_reply": "2025-08-17T18:46:22.295474Z",
     "shell.execute_reply.started": "2025-08-17T18:46:22.284366Z"
    },
    "trusted": true
   },
   "outputs": [],
   "source": [
    "# concatenate the match matrix with the question vector sequence\n",
    "answer = concatenate([response, question_encoded])"
   ]
  },
  {
   "cell_type": "code",
   "execution_count": 52,
   "metadata": {
    "execution": {
     "iopub.execute_input": "2025-08-17T18:46:22.298485Z",
     "iopub.status.busy": "2025-08-17T18:46:22.298174Z",
     "iopub.status.idle": "2025-08-17T18:46:22.307788Z",
     "shell.execute_reply": "2025-08-17T18:46:22.306517Z",
     "shell.execute_reply.started": "2025-08-17T18:46:22.298460Z"
    },
    "trusted": true
   },
   "outputs": [
    {
     "data": {
      "text/plain": [
       "<KerasTensor: shape=(None, 6, 220) dtype=float32 (created by layer 'concatenate')>"
      ]
     },
     "execution_count": 52,
     "metadata": {},
     "output_type": "execute_result"
    }
   ],
   "source": [
    "answer"
   ]
  },
  {
   "cell_type": "code",
   "execution_count": 53,
   "metadata": {
    "execution": {
     "iopub.execute_input": "2025-08-17T18:46:22.309397Z",
     "iopub.status.busy": "2025-08-17T18:46:22.309081Z",
     "iopub.status.idle": "2025-08-17T18:46:22.670050Z",
     "shell.execute_reply": "2025-08-17T18:46:22.668731Z",
     "shell.execute_reply.started": "2025-08-17T18:46:22.309371Z"
    },
    "trusted": true
   },
   "outputs": [],
   "source": [
    "# Reduce with RNN (LSTM)\n",
    "answer = LSTM(32)(answer)  # (samples, 32)"
   ]
  },
  {
   "cell_type": "code",
   "execution_count": 54,
   "metadata": {
    "execution": {
     "iopub.execute_input": "2025-08-17T18:46:22.672246Z",
     "iopub.status.busy": "2025-08-17T18:46:22.671595Z",
     "iopub.status.idle": "2025-08-17T18:46:22.701973Z",
     "shell.execute_reply": "2025-08-17T18:46:22.700631Z",
     "shell.execute_reply.started": "2025-08-17T18:46:22.672204Z"
    },
    "trusted": true
   },
   "outputs": [],
   "source": [
    "# Regularization with Dropout\n",
    "answer = Dropout(0.5)(answer)\n",
    "answer = Dense(vocab_size)(answer)  # (samples, vocab_size)"
   ]
  },
  {
   "cell_type": "code",
   "execution_count": 55,
   "metadata": {
    "execution": {
     "iopub.execute_input": "2025-08-17T18:46:22.703659Z",
     "iopub.status.busy": "2025-08-17T18:46:22.703274Z",
     "iopub.status.idle": "2025-08-17T18:46:22.735085Z",
     "shell.execute_reply": "2025-08-17T18:46:22.733634Z",
     "shell.execute_reply.started": "2025-08-17T18:46:22.703630Z"
    },
    "trusted": true
   },
   "outputs": [],
   "source": [
    "# we output a probability distribution over the vocabulary\n",
    "answer = Activation('softmax')(answer)\n",
    "\n",
    "# build the final model\n",
    "model = Model([input_sequence, question], answer)\n",
    "model.compile(optimizer='rmsprop', loss='categorical_crossentropy',\n",
    "              metrics=['accuracy'])"
   ]
  },
  {
   "cell_type": "code",
   "execution_count": 56,
   "metadata": {
    "execution": {
     "iopub.execute_input": "2025-08-17T18:46:22.737062Z",
     "iopub.status.busy": "2025-08-17T18:46:22.736607Z",
     "iopub.status.idle": "2025-08-17T18:46:22.791782Z",
     "shell.execute_reply": "2025-08-17T18:46:22.790386Z",
     "shell.execute_reply.started": "2025-08-17T18:46:22.737022Z"
    },
    "trusted": true
   },
   "outputs": [
    {
     "name": "stdout",
     "output_type": "stream",
     "text": [
      "Model: \"model\"\n",
      "__________________________________________________________________________________________________\n",
      " Layer (type)                   Output Shape         Param #     Connected to                     \n",
      "==================================================================================================\n",
      " input_1 (InputLayer)           [(None, 156)]        0           []                               \n",
      "                                                                                                  \n",
      " input_2 (InputLayer)           [(None, 6)]          0           []                               \n",
      "                                                                                                  \n",
      " sequential (Sequential)        (None, None, 64)     2432        ['input_1[0][0]']                \n",
      "                                                                                                  \n",
      " sequential_2 (Sequential)      (None, 6, 64)        2432        ['input_2[0][0]']                \n",
      "                                                                                                  \n",
      " dot (Dot)                      (None, 156, 6)       0           ['sequential[0][0]',             \n",
      "                                                                  'sequential_2[0][0]']           \n",
      "                                                                                                  \n",
      " activation (Activation)        (None, 156, 6)       0           ['dot[0][0]']                    \n",
      "                                                                                                  \n",
      " sequential_1 (Sequential)      (None, None, 6)      228         ['input_1[0][0]']                \n",
      "                                                                                                  \n",
      " add (Add)                      (None, 156, 6)       0           ['activation[0][0]',             \n",
      "                                                                  'sequential_1[0][0]']           \n",
      "                                                                                                  \n",
      " permute (Permute)              (None, 6, 156)       0           ['add[0][0]']                    \n",
      "                                                                                                  \n",
      " concatenate (Concatenate)      (None, 6, 220)       0           ['permute[0][0]',                \n",
      "                                                                  'sequential_2[0][0]']           \n",
      "                                                                                                  \n",
      " lstm (LSTM)                    (None, 32)           32384       ['concatenate[0][0]']            \n",
      "                                                                                                  \n",
      " dropout_3 (Dropout)            (None, 32)           0           ['lstm[0][0]']                   \n",
      "                                                                                                  \n",
      " dense (Dense)                  (None, 38)           1254        ['dropout_3[0][0]']              \n",
      "                                                                                                  \n",
      " activation_1 (Activation)      (None, 38)           0           ['dense[0][0]']                  \n",
      "                                                                                                  \n",
      "==================================================================================================\n",
      "Total params: 38,730\n",
      "Trainable params: 38,730\n",
      "Non-trainable params: 0\n",
      "__________________________________________________________________________________________________\n"
     ]
    }
   ],
   "source": [
    "model.summary()"
   ]
  },
  {
   "cell_type": "code",
   "execution_count": 57,
   "metadata": {
    "execution": {
     "iopub.execute_input": "2025-08-17T18:46:22.793779Z",
     "iopub.status.busy": "2025-08-17T18:46:22.793312Z",
     "iopub.status.idle": "2025-08-17T18:55:10.621361Z",
     "shell.execute_reply": "2025-08-17T18:55:10.620075Z",
     "shell.execute_reply.started": "2025-08-17T18:46:22.793736Z"
    },
    "trusted": true
   },
   "outputs": [
    {
     "name": "stdout",
     "output_type": "stream",
     "text": [
      "Epoch 1/120\n",
      "313/313 [==============================] - 8s 16ms/step - loss: 0.9078 - accuracy: 0.4978 - val_loss: 0.6975 - val_accuracy: 0.4970\n",
      "Epoch 2/120\n",
      "313/313 [==============================] - 4s 13ms/step - loss: 0.7077 - accuracy: 0.5016 - val_loss: 0.6938 - val_accuracy: 0.5030\n",
      "Epoch 3/120\n",
      "313/313 [==============================] - 4s 13ms/step - loss: 0.6985 - accuracy: 0.4916 - val_loss: 0.6947 - val_accuracy: 0.5030\n",
      "Epoch 4/120\n",
      "313/313 [==============================] - 4s 14ms/step - loss: 0.6968 - accuracy: 0.4973 - val_loss: 0.6937 - val_accuracy: 0.4970\n",
      "Epoch 5/120\n",
      "313/313 [==============================] - 4s 14ms/step - loss: 0.6960 - accuracy: 0.4977 - val_loss: 0.6941 - val_accuracy: 0.5030\n",
      "Epoch 6/120\n",
      "313/313 [==============================] - 4s 14ms/step - loss: 0.6958 - accuracy: 0.4965 - val_loss: 0.6932 - val_accuracy: 0.5030\n",
      "Epoch 7/120\n",
      "313/313 [==============================] - 4s 13ms/step - loss: 0.6951 - accuracy: 0.5068 - val_loss: 0.6932 - val_accuracy: 0.5150\n",
      "Epoch 8/120\n",
      "313/313 [==============================] - 4s 14ms/step - loss: 0.6951 - accuracy: 0.4998 - val_loss: 0.6936 - val_accuracy: 0.4970\n",
      "Epoch 9/120\n",
      "313/313 [==============================] - 4s 14ms/step - loss: 0.6953 - accuracy: 0.5008 - val_loss: 0.6932 - val_accuracy: 0.5030\n",
      "Epoch 10/120\n",
      "313/313 [==============================] - 4s 14ms/step - loss: 0.6958 - accuracy: 0.4959 - val_loss: 0.6932 - val_accuracy: 0.4970\n",
      "Epoch 11/120\n",
      "313/313 [==============================] - 4s 13ms/step - loss: 0.6953 - accuracy: 0.5024 - val_loss: 0.6936 - val_accuracy: 0.5030\n",
      "Epoch 12/120\n",
      "313/313 [==============================] - 4s 13ms/step - loss: 0.6952 - accuracy: 0.4990 - val_loss: 0.6932 - val_accuracy: 0.5030\n",
      "Epoch 13/120\n",
      "313/313 [==============================] - 4s 14ms/step - loss: 0.6950 - accuracy: 0.5035 - val_loss: 0.6932 - val_accuracy: 0.5030\n",
      "Epoch 14/120\n",
      "313/313 [==============================] - 4s 14ms/step - loss: 0.6950 - accuracy: 0.4923 - val_loss: 0.6934 - val_accuracy: 0.5030\n",
      "Epoch 15/120\n",
      "313/313 [==============================] - 4s 14ms/step - loss: 0.6952 - accuracy: 0.5008 - val_loss: 0.6934 - val_accuracy: 0.4970\n",
      "Epoch 16/120\n",
      "313/313 [==============================] - 4s 13ms/step - loss: 0.6948 - accuracy: 0.5051 - val_loss: 0.6948 - val_accuracy: 0.4970\n",
      "Epoch 17/120\n",
      "313/313 [==============================] - 4s 13ms/step - loss: 0.6955 - accuracy: 0.4921 - val_loss: 0.6932 - val_accuracy: 0.5030\n",
      "Epoch 18/120\n",
      "313/313 [==============================] - 4s 14ms/step - loss: 0.6951 - accuracy: 0.4961 - val_loss: 0.6935 - val_accuracy: 0.5030\n",
      "Epoch 19/120\n",
      "313/313 [==============================] - 4s 14ms/step - loss: 0.6947 - accuracy: 0.4974 - val_loss: 0.6965 - val_accuracy: 0.4970\n",
      "Epoch 20/120\n",
      "313/313 [==============================] - 4s 14ms/step - loss: 0.6948 - accuracy: 0.5016 - val_loss: 0.6939 - val_accuracy: 0.4970\n",
      "Epoch 21/120\n",
      "313/313 [==============================] - 4s 14ms/step - loss: 0.6949 - accuracy: 0.4946 - val_loss: 0.6931 - val_accuracy: 0.5030\n",
      "Epoch 22/120\n",
      "313/313 [==============================] - 4s 14ms/step - loss: 0.6957 - accuracy: 0.4975 - val_loss: 0.6938 - val_accuracy: 0.4970\n",
      "Epoch 23/120\n",
      "313/313 [==============================] - 4s 14ms/step - loss: 0.6943 - accuracy: 0.4988 - val_loss: 0.6947 - val_accuracy: 0.4970\n",
      "Epoch 24/120\n",
      "313/313 [==============================] - 4s 14ms/step - loss: 0.6952 - accuracy: 0.5014 - val_loss: 0.6948 - val_accuracy: 0.4970\n",
      "Epoch 25/120\n",
      "313/313 [==============================] - 4s 13ms/step - loss: 0.6949 - accuracy: 0.4968 - val_loss: 0.6932 - val_accuracy: 0.4970\n",
      "Epoch 26/120\n",
      "313/313 [==============================] - 4s 14ms/step - loss: 0.6950 - accuracy: 0.4993 - val_loss: 0.6984 - val_accuracy: 0.4970\n",
      "Epoch 27/120\n",
      "313/313 [==============================] - 4s 14ms/step - loss: 0.6947 - accuracy: 0.5044 - val_loss: 0.6932 - val_accuracy: 0.4970\n",
      "Epoch 28/120\n",
      "313/313 [==============================] - 5s 15ms/step - loss: 0.6954 - accuracy: 0.4895 - val_loss: 0.6933 - val_accuracy: 0.4970\n",
      "Epoch 29/120\n",
      "313/313 [==============================] - 4s 14ms/step - loss: 0.6949 - accuracy: 0.4956 - val_loss: 0.6947 - val_accuracy: 0.5030\n",
      "Epoch 30/120\n",
      "313/313 [==============================] - 4s 13ms/step - loss: 0.6946 - accuracy: 0.5057 - val_loss: 0.6931 - val_accuracy: 0.5030\n",
      "Epoch 31/120\n",
      "313/313 [==============================] - 4s 14ms/step - loss: 0.6949 - accuracy: 0.5016 - val_loss: 0.6978 - val_accuracy: 0.4970\n",
      "Epoch 32/120\n",
      "313/313 [==============================] - 4s 14ms/step - loss: 0.6945 - accuracy: 0.5002 - val_loss: 0.6932 - val_accuracy: 0.4880\n",
      "Epoch 33/120\n",
      "313/313 [==============================] - 4s 14ms/step - loss: 0.6934 - accuracy: 0.5126 - val_loss: 0.6941 - val_accuracy: 0.5030\n",
      "Epoch 34/120\n",
      "313/313 [==============================] - 4s 14ms/step - loss: 0.6946 - accuracy: 0.5033 - val_loss: 0.6947 - val_accuracy: 0.4970\n",
      "Epoch 35/120\n",
      "313/313 [==============================] - 4s 14ms/step - loss: 0.6953 - accuracy: 0.5016 - val_loss: 0.6933 - val_accuracy: 0.5030\n",
      "Epoch 36/120\n",
      "313/313 [==============================] - 4s 14ms/step - loss: 0.6943 - accuracy: 0.5069 - val_loss: 0.6963 - val_accuracy: 0.4970\n",
      "Epoch 37/120\n",
      "313/313 [==============================] - 4s 14ms/step - loss: 0.6942 - accuracy: 0.5054 - val_loss: 0.6937 - val_accuracy: 0.5030\n",
      "Epoch 38/120\n",
      "313/313 [==============================] - 4s 13ms/step - loss: 0.6951 - accuracy: 0.5012 - val_loss: 0.6935 - val_accuracy: 0.4970\n",
      "Epoch 39/120\n",
      "313/313 [==============================] - 4s 13ms/step - loss: 0.6947 - accuracy: 0.4996 - val_loss: 0.6931 - val_accuracy: 0.5030\n",
      "Epoch 40/120\n",
      "313/313 [==============================] - 4s 13ms/step - loss: 0.6953 - accuracy: 0.5003 - val_loss: 0.6935 - val_accuracy: 0.4970\n",
      "Epoch 41/120\n",
      "313/313 [==============================] - 4s 14ms/step - loss: 0.6947 - accuracy: 0.5065 - val_loss: 0.6932 - val_accuracy: 0.5030\n",
      "Epoch 42/120\n",
      "313/313 [==============================] - 4s 14ms/step - loss: 0.6949 - accuracy: 0.4976 - val_loss: 0.6936 - val_accuracy: 0.5030\n",
      "Epoch 43/120\n",
      "313/313 [==============================] - 4s 14ms/step - loss: 0.6949 - accuracy: 0.4946 - val_loss: 0.6937 - val_accuracy: 0.5030\n",
      "Epoch 44/120\n",
      "313/313 [==============================] - 4s 13ms/step - loss: 0.6944 - accuracy: 0.5006 - val_loss: 0.6936 - val_accuracy: 0.5030\n",
      "Epoch 45/120\n",
      "313/313 [==============================] - 4s 13ms/step - loss: 0.6953 - accuracy: 0.4932 - val_loss: 0.6933 - val_accuracy: 0.5030\n",
      "Epoch 46/120\n",
      "313/313 [==============================] - 4s 14ms/step - loss: 0.6946 - accuracy: 0.5007 - val_loss: 0.6932 - val_accuracy: 0.4850\n",
      "Epoch 47/120\n",
      "313/313 [==============================] - 4s 14ms/step - loss: 0.6941 - accuracy: 0.5065 - val_loss: 0.6946 - val_accuracy: 0.4970\n",
      "Epoch 48/120\n",
      "313/313 [==============================] - 4s 14ms/step - loss: 0.6939 - accuracy: 0.5059 - val_loss: 0.6938 - val_accuracy: 0.4950\n",
      "Epoch 49/120\n",
      "313/313 [==============================] - 4s 13ms/step - loss: 0.6947 - accuracy: 0.5063 - val_loss: 0.6983 - val_accuracy: 0.4970\n",
      "Epoch 50/120\n",
      "313/313 [==============================] - 4s 14ms/step - loss: 0.6944 - accuracy: 0.5087 - val_loss: 0.6952 - val_accuracy: 0.4960\n",
      "Epoch 51/120\n",
      "313/313 [==============================] - 4s 14ms/step - loss: 0.6948 - accuracy: 0.4990 - val_loss: 0.6956 - val_accuracy: 0.5010\n",
      "Epoch 52/120\n",
      "313/313 [==============================] - 4s 14ms/step - loss: 0.6932 - accuracy: 0.5133 - val_loss: 0.6958 - val_accuracy: 0.4950\n",
      "Epoch 53/120\n",
      "313/313 [==============================] - 4s 14ms/step - loss: 0.6933 - accuracy: 0.5124 - val_loss: 0.6951 - val_accuracy: 0.4700\n",
      "Epoch 54/120\n",
      "313/313 [==============================] - 4s 14ms/step - loss: 0.6933 - accuracy: 0.5178 - val_loss: 0.6965 - val_accuracy: 0.5000\n",
      "Epoch 55/120\n",
      "313/313 [==============================] - 4s 14ms/step - loss: 0.6929 - accuracy: 0.5138 - val_loss: 0.7002 - val_accuracy: 0.5090\n",
      "Epoch 56/120\n",
      "313/313 [==============================] - 4s 14ms/step - loss: 0.6924 - accuracy: 0.5234 - val_loss: 0.6977 - val_accuracy: 0.4910\n",
      "Epoch 57/120\n",
      "313/313 [==============================] - 4s 14ms/step - loss: 0.6912 - accuracy: 0.5251 - val_loss: 0.7051 - val_accuracy: 0.5070\n",
      "Epoch 58/120\n",
      "313/313 [==============================] - 4s 14ms/step - loss: 0.6900 - accuracy: 0.5284 - val_loss: 0.7006 - val_accuracy: 0.4970\n",
      "Epoch 59/120\n",
      "313/313 [==============================] - 4s 14ms/step - loss: 0.6888 - accuracy: 0.5289 - val_loss: 0.7025 - val_accuracy: 0.4790\n",
      "Epoch 60/120\n",
      "313/313 [==============================] - 4s 14ms/step - loss: 0.6863 - accuracy: 0.5386 - val_loss: 0.6939 - val_accuracy: 0.4900\n",
      "Epoch 61/120\n",
      "313/313 [==============================] - 4s 13ms/step - loss: 0.6807 - accuracy: 0.5453 - val_loss: 0.6859 - val_accuracy: 0.5430\n",
      "Epoch 62/120\n",
      "313/313 [==============================] - 4s 14ms/step - loss: 0.6724 - accuracy: 0.5671 - val_loss: 0.6716 - val_accuracy: 0.5640\n",
      "Epoch 63/120\n",
      "313/313 [==============================] - 4s 14ms/step - loss: 0.6615 - accuracy: 0.5942 - val_loss: 0.6539 - val_accuracy: 0.6410\n",
      "Epoch 64/120\n",
      "313/313 [==============================] - 4s 14ms/step - loss: 0.6491 - accuracy: 0.6186 - val_loss: 0.6352 - val_accuracy: 0.6530\n",
      "Epoch 65/120\n",
      "313/313 [==============================] - 4s 13ms/step - loss: 0.6377 - accuracy: 0.6360 - val_loss: 0.6260 - val_accuracy: 0.6500\n",
      "Epoch 66/120\n",
      "313/313 [==============================] - 4s 13ms/step - loss: 0.6283 - accuracy: 0.6455 - val_loss: 0.6109 - val_accuracy: 0.6780\n",
      "Epoch 67/120\n",
      "313/313 [==============================] - 4s 14ms/step - loss: 0.6142 - accuracy: 0.6738 - val_loss: 0.5986 - val_accuracy: 0.6890\n",
      "Epoch 68/120\n",
      "313/313 [==============================] - 4s 13ms/step - loss: 0.6074 - accuracy: 0.6811 - val_loss: 0.5787 - val_accuracy: 0.6910\n",
      "Epoch 69/120\n",
      "313/313 [==============================] - 4s 14ms/step - loss: 0.5910 - accuracy: 0.6972 - val_loss: 0.5594 - val_accuracy: 0.7170\n",
      "Epoch 70/120\n",
      "313/313 [==============================] - 4s 14ms/step - loss: 0.5696 - accuracy: 0.7182 - val_loss: 0.5332 - val_accuracy: 0.7420\n",
      "Epoch 71/120\n",
      "313/313 [==============================] - 4s 14ms/step - loss: 0.5516 - accuracy: 0.7308 - val_loss: 0.5172 - val_accuracy: 0.7340\n",
      "Epoch 72/120\n",
      "313/313 [==============================] - 4s 14ms/step - loss: 0.5337 - accuracy: 0.7462 - val_loss: 0.4935 - val_accuracy: 0.7600\n",
      "Epoch 73/120\n",
      "313/313 [==============================] - 4s 14ms/step - loss: 0.5088 - accuracy: 0.7640 - val_loss: 0.4729 - val_accuracy: 0.7890\n",
      "Epoch 74/120\n",
      "313/313 [==============================] - 4s 14ms/step - loss: 0.4949 - accuracy: 0.7808 - val_loss: 0.4421 - val_accuracy: 0.8010\n",
      "Epoch 75/120\n",
      "313/313 [==============================] - 4s 14ms/step - loss: 0.4782 - accuracy: 0.7918 - val_loss: 0.4312 - val_accuracy: 0.8240\n",
      "Epoch 76/120\n",
      "313/313 [==============================] - 4s 14ms/step - loss: 0.4611 - accuracy: 0.7972 - val_loss: 0.4272 - val_accuracy: 0.8240\n",
      "Epoch 77/120\n",
      "313/313 [==============================] - 4s 14ms/step - loss: 0.4461 - accuracy: 0.8073 - val_loss: 0.4204 - val_accuracy: 0.8140\n",
      "Epoch 78/120\n",
      "313/313 [==============================] - 4s 14ms/step - loss: 0.4411 - accuracy: 0.8099 - val_loss: 0.4109 - val_accuracy: 0.8160\n",
      "Epoch 79/120\n",
      "313/313 [==============================] - 4s 13ms/step - loss: 0.4142 - accuracy: 0.8241 - val_loss: 0.4085 - val_accuracy: 0.8220\n",
      "Epoch 80/120\n",
      "313/313 [==============================] - 4s 14ms/step - loss: 0.4171 - accuracy: 0.8261 - val_loss: 0.4070 - val_accuracy: 0.8310\n",
      "Epoch 81/120\n",
      "313/313 [==============================] - 4s 14ms/step - loss: 0.4096 - accuracy: 0.8301 - val_loss: 0.3870 - val_accuracy: 0.8360\n",
      "Epoch 82/120\n",
      "313/313 [==============================] - 4s 13ms/step - loss: 0.3924 - accuracy: 0.8353 - val_loss: 0.3865 - val_accuracy: 0.8270\n",
      "Epoch 83/120\n",
      "313/313 [==============================] - 4s 14ms/step - loss: 0.3915 - accuracy: 0.8356 - val_loss: 0.3897 - val_accuracy: 0.8200\n",
      "Epoch 84/120\n",
      "313/313 [==============================] - 4s 14ms/step - loss: 0.3865 - accuracy: 0.8402 - val_loss: 0.3803 - val_accuracy: 0.8360\n",
      "Epoch 85/120\n",
      "313/313 [==============================] - 4s 14ms/step - loss: 0.3700 - accuracy: 0.8451 - val_loss: 0.3874 - val_accuracy: 0.8410\n",
      "Epoch 86/120\n",
      "313/313 [==============================] - 4s 14ms/step - loss: 0.3698 - accuracy: 0.8458 - val_loss: 0.3767 - val_accuracy: 0.8290\n",
      "Epoch 87/120\n",
      "313/313 [==============================] - 4s 14ms/step - loss: 0.3665 - accuracy: 0.8480 - val_loss: 0.3701 - val_accuracy: 0.8430\n",
      "Epoch 88/120\n",
      "313/313 [==============================] - 4s 14ms/step - loss: 0.3619 - accuracy: 0.8496 - val_loss: 0.3733 - val_accuracy: 0.8310\n",
      "Epoch 89/120\n",
      "313/313 [==============================] - 4s 14ms/step - loss: 0.3622 - accuracy: 0.8509 - val_loss: 0.3645 - val_accuracy: 0.8430\n",
      "Epoch 90/120\n",
      "313/313 [==============================] - 4s 14ms/step - loss: 0.3537 - accuracy: 0.8514 - val_loss: 0.3774 - val_accuracy: 0.8260\n",
      "Epoch 91/120\n",
      "313/313 [==============================] - 4s 14ms/step - loss: 0.3449 - accuracy: 0.8541 - val_loss: 0.3937 - val_accuracy: 0.8180\n",
      "Epoch 92/120\n",
      "313/313 [==============================] - 5s 15ms/step - loss: 0.3407 - accuracy: 0.8608 - val_loss: 0.3740 - val_accuracy: 0.8470\n",
      "Epoch 93/120\n",
      "313/313 [==============================] - 5s 15ms/step - loss: 0.3385 - accuracy: 0.8581 - val_loss: 0.3761 - val_accuracy: 0.8330\n",
      "Epoch 94/120\n",
      "313/313 [==============================] - 5s 15ms/step - loss: 0.3312 - accuracy: 0.8591 - val_loss: 0.3977 - val_accuracy: 0.8390\n",
      "Epoch 95/120\n",
      "313/313 [==============================] - 5s 15ms/step - loss: 0.3381 - accuracy: 0.8580 - val_loss: 0.3741 - val_accuracy: 0.8270\n",
      "Epoch 96/120\n",
      "313/313 [==============================] - 5s 15ms/step - loss: 0.3354 - accuracy: 0.8602 - val_loss: 0.3655 - val_accuracy: 0.8250\n",
      "Epoch 97/120\n",
      "313/313 [==============================] - 5s 15ms/step - loss: 0.3327 - accuracy: 0.8618 - val_loss: 0.3721 - val_accuracy: 0.8410\n",
      "Epoch 98/120\n",
      "313/313 [==============================] - 5s 15ms/step - loss: 0.3224 - accuracy: 0.8636 - val_loss: 0.3708 - val_accuracy: 0.8300\n",
      "Epoch 99/120\n",
      "313/313 [==============================] - 5s 15ms/step - loss: 0.3278 - accuracy: 0.8629 - val_loss: 0.3759 - val_accuracy: 0.8280\n",
      "Epoch 100/120\n",
      "313/313 [==============================] - 5s 16ms/step - loss: 0.3255 - accuracy: 0.8635 - val_loss: 0.3680 - val_accuracy: 0.8380\n",
      "Epoch 101/120\n",
      "313/313 [==============================] - 5s 15ms/step - loss: 0.3211 - accuracy: 0.8655 - val_loss: 0.3580 - val_accuracy: 0.8280\n",
      "Epoch 102/120\n",
      "313/313 [==============================] - 5s 15ms/step - loss: 0.3157 - accuracy: 0.8698 - val_loss: 0.3965 - val_accuracy: 0.8230\n",
      "Epoch 103/120\n",
      "313/313 [==============================] - 5s 15ms/step - loss: 0.3143 - accuracy: 0.8671 - val_loss: 0.3534 - val_accuracy: 0.8360\n",
      "Epoch 104/120\n",
      "313/313 [==============================] - 5s 15ms/step - loss: 0.3112 - accuracy: 0.8683 - val_loss: 0.3901 - val_accuracy: 0.8300\n",
      "Epoch 105/120\n",
      "313/313 [==============================] - 5s 15ms/step - loss: 0.3062 - accuracy: 0.8741 - val_loss: 0.3815 - val_accuracy: 0.8340\n",
      "Epoch 106/120\n",
      "313/313 [==============================] - 5s 15ms/step - loss: 0.3051 - accuracy: 0.8733 - val_loss: 0.3604 - val_accuracy: 0.8350\n",
      "Epoch 107/120\n",
      "313/313 [==============================] - 5s 16ms/step - loss: 0.3070 - accuracy: 0.8691 - val_loss: 0.3695 - val_accuracy: 0.8410\n",
      "Epoch 108/120\n",
      "313/313 [==============================] - 4s 14ms/step - loss: 0.3033 - accuracy: 0.8751 - val_loss: 0.3790 - val_accuracy: 0.8410\n",
      "Epoch 109/120\n",
      "313/313 [==============================] - 5s 16ms/step - loss: 0.2986 - accuracy: 0.8762 - val_loss: 0.3824 - val_accuracy: 0.8230\n",
      "Epoch 110/120\n",
      "313/313 [==============================] - 5s 14ms/step - loss: 0.3026 - accuracy: 0.8739 - val_loss: 0.4003 - val_accuracy: 0.8300\n",
      "Epoch 111/120\n",
      "313/313 [==============================] - 5s 15ms/step - loss: 0.3018 - accuracy: 0.8713 - val_loss: 0.3828 - val_accuracy: 0.8230\n",
      "Epoch 112/120\n",
      "313/313 [==============================] - 4s 14ms/step - loss: 0.2940 - accuracy: 0.8789 - val_loss: 0.3723 - val_accuracy: 0.8430\n",
      "Epoch 113/120\n",
      "313/313 [==============================] - 4s 14ms/step - loss: 0.2915 - accuracy: 0.8773 - val_loss: 0.3608 - val_accuracy: 0.8240\n",
      "Epoch 114/120\n",
      "313/313 [==============================] - 4s 14ms/step - loss: 0.2949 - accuracy: 0.8769 - val_loss: 0.3890 - val_accuracy: 0.8400\n",
      "Epoch 115/120\n",
      "313/313 [==============================] - 4s 14ms/step - loss: 0.2933 - accuracy: 0.8755 - val_loss: 0.3693 - val_accuracy: 0.8320\n",
      "Epoch 116/120\n",
      "313/313 [==============================] - 4s 14ms/step - loss: 0.2954 - accuracy: 0.8770 - val_loss: 0.3842 - val_accuracy: 0.8320\n",
      "Epoch 117/120\n",
      "313/313 [==============================] - 4s 14ms/step - loss: 0.2869 - accuracy: 0.8814 - val_loss: 0.3668 - val_accuracy: 0.8330\n",
      "Epoch 118/120\n",
      "313/313 [==============================] - 4s 14ms/step - loss: 0.2869 - accuracy: 0.8776 - val_loss: 0.3854 - val_accuracy: 0.8200\n",
      "Epoch 119/120\n",
      "313/313 [==============================] - 4s 14ms/step - loss: 0.2826 - accuracy: 0.8834 - val_loss: 0.3718 - val_accuracy: 0.8350\n",
      "Epoch 120/120\n",
      "313/313 [==============================] - 4s 14ms/step - loss: 0.2869 - accuracy: 0.8784 - val_loss: 0.3888 - val_accuracy: 0.8310\n"
     ]
    }
   ],
   "source": [
    "# train\n",
    "history = model.fit([inputs_train, queries_train], answers_train,batch_size=32,epochs=120,validation_data=([inputs_test, queries_test], answers_test))"
   ]
  },
  {
   "cell_type": "markdown",
   "metadata": {},
   "source": [
    "### Saving the Model"
   ]
  },
  {
   "cell_type": "code",
   "execution_count": 58,
   "metadata": {
    "execution": {
     "iopub.execute_input": "2025-08-17T18:55:10.623764Z",
     "iopub.status.busy": "2025-08-17T18:55:10.623254Z",
     "iopub.status.idle": "2025-08-17T18:55:10.673381Z",
     "shell.execute_reply": "2025-08-17T18:55:10.672066Z",
     "shell.execute_reply.started": "2025-08-17T18:55:10.623717Z"
    },
    "trusted": true
   },
   "outputs": [],
   "source": [
    "filename = 'chatbot_120_epochs.h5'\n",
    "model.save(filename)"
   ]
  },
  {
   "cell_type": "markdown",
   "metadata": {},
   "source": [
    "## Evaluating the Model\n",
    "\n",
    "### Plotting Out Training History"
   ]
  },
  {
   "cell_type": "code",
   "execution_count": 59,
   "metadata": {
    "execution": {
     "iopub.execute_input": "2025-08-17T18:55:10.675017Z",
     "iopub.status.busy": "2025-08-17T18:55:10.674679Z",
     "iopub.status.idle": "2025-08-17T18:55:10.998030Z",
     "shell.execute_reply": "2025-08-17T18:55:10.996814Z",
     "shell.execute_reply.started": "2025-08-17T18:55:10.674983Z"
    },
    "trusted": true
   },
   "outputs": [
    {
     "name": "stdout",
     "output_type": "stream",
     "text": [
      "dict_keys(['loss', 'accuracy', 'val_loss', 'val_accuracy'])\n"
     ]
    },
    {
     "data": {
      "image/png": "[encoded data removed]",
      "text/plain": [
       "<Figure size 640x480 with 1 Axes>"
      ]
     },
     "metadata": {},
     "output_type": "display_data"
    }
   ],
   "source": [
    "import matplotlib.pyplot as plt\n",
    "%matplotlib inline\n",
    "print(history.history.keys())\n",
    "# summarize history for accuracy\n",
    "plt.plot(history.history['accuracy'])\n",
    "plt.plot(history.history['val_accuracy'])\n",
    "plt.title('model accuracy')\n",
    "plt.ylabel('accuracy')\n",
    "plt.xlabel('epoch')\n",
    "plt.legend(['train', 'test'], loc='upper left')\n",
    "plt.show()"
   ]
  },
  {
   "cell_type": "markdown",
   "metadata": {},
   "source": [
    "### Evaluating on Given Test Set"
   ]
  },
  {
   "cell_type": "code",
   "execution_count": 60,
   "metadata": {
    "execution": {
     "iopub.execute_input": "2025-08-17T18:55:11.000327Z",
     "iopub.status.busy": "2025-08-17T18:55:10.999806Z",
     "iopub.status.idle": "2025-08-17T18:55:11.774725Z",
     "shell.execute_reply": "2025-08-17T18:55:11.773612Z",
     "shell.execute_reply.started": "2025-08-17T18:55:11.000280Z"
    },
    "trusted": true
   },
   "outputs": [
    {
     "name": "stdout",
     "output_type": "stream",
     "text": [
      "32/32 [==============================] - 1s 5ms/step\n"
     ]
    }
   ],
   "source": [
    "model.load_weights(filename)\n",
    "pred_results = model.predict(([inputs_test, queries_test]))"
   ]
  },
  {
   "cell_type": "code",
   "execution_count": 61,
   "metadata": {
    "execution": {
     "iopub.execute_input": "2025-08-17T18:55:11.776816Z",
     "iopub.status.busy": "2025-08-17T18:55:11.776337Z",
     "iopub.status.idle": "2025-08-17T18:55:11.785327Z",
     "shell.execute_reply": "2025-08-17T18:55:11.783895Z",
     "shell.execute_reply.started": "2025-08-17T18:55:11.776774Z"
    },
    "trusted": true
   },
   "outputs": [
    {
     "data": {
      "text/plain": [
       "['Mary',\n",
       " 'got',\n",
       " 'the',\n",
       " 'milk',\n",
       " 'there',\n",
       " '.',\n",
       " 'John',\n",
       " 'moved',\n",
       " 'to',\n",
       " 'the',\n",
       " 'bedroom',\n",
       " '.']"
      ]
     },
     "execution_count": 61,
     "metadata": {},
     "output_type": "execute_result"
    }
   ],
   "source": [
    "test_data[0][0]"
   ]
  },
  {
   "cell_type": "code",
   "execution_count": 62,
   "metadata": {
    "execution": {
     "iopub.execute_input": "2025-08-17T18:55:11.787946Z",
     "iopub.status.busy": "2025-08-17T18:55:11.787305Z",
     "iopub.status.idle": "2025-08-17T18:55:11.798549Z",
     "shell.execute_reply": "2025-08-17T18:55:11.797096Z",
     "shell.execute_reply.started": "2025-08-17T18:55:11.787901Z"
    },
    "trusted": true
   },
   "outputs": [
    {
     "name": "stdout",
     "output_type": "stream",
     "text": [
      "Mary got the milk there . John moved to the bedroom .\n"
     ]
    }
   ],
   "source": [
    "story =' '.join(word for word in test_data[0][0])\n",
    "print(story)"
   ]
  },
  {
   "cell_type": "code",
   "execution_count": 63,
   "metadata": {
    "execution": {
     "iopub.execute_input": "2025-08-17T18:55:11.800574Z",
     "iopub.status.busy": "2025-08-17T18:55:11.800092Z",
     "iopub.status.idle": "2025-08-17T18:55:11.812505Z",
     "shell.execute_reply": "2025-08-17T18:55:11.811140Z",
     "shell.execute_reply.started": "2025-08-17T18:55:11.800510Z"
    },
    "trusted": true
   },
   "outputs": [
    {
     "name": "stdout",
     "output_type": "stream",
     "text": [
      "Is John in the kitchen ?\n"
     ]
    }
   ],
   "source": [
    "query = ' '.join(word for word in test_data[0][1])\n",
    "print(query)"
   ]
  },
  {
   "cell_type": "code",
   "execution_count": 64,
   "metadata": {
    "execution": {
     "iopub.execute_input": "2025-08-17T18:55:11.814432Z",
     "iopub.status.busy": "2025-08-17T18:55:11.814072Z",
     "iopub.status.idle": "2025-08-17T18:55:11.826872Z",
     "shell.execute_reply": "2025-08-17T18:55:11.825300Z",
     "shell.execute_reply.started": "2025-08-17T18:55:11.814402Z"
    },
    "trusted": true
   },
   "outputs": [
    {
     "name": "stdout",
     "output_type": "stream",
     "text": [
      "True Test Answer from Data is: no\n"
     ]
    }
   ],
   "source": [
    "print(\"True Test Answer from Data is:\",test_data[0][2])"
   ]
  },
  {
   "cell_type": "code",
   "execution_count": 65,
   "metadata": {
    "execution": {
     "iopub.execute_input": "2025-08-17T18:55:11.829153Z",
     "iopub.status.busy": "2025-08-17T18:55:11.828680Z",
     "iopub.status.idle": "2025-08-17T18:55:11.841019Z",
     "shell.execute_reply": "2025-08-17T18:55:11.839861Z",
     "shell.execute_reply.started": "2025-08-17T18:55:11.829100Z"
    },
    "trusted": true
   },
   "outputs": [
    {
     "name": "stdout",
     "output_type": "stream",
     "text": [
      "Predicted answer is:  no\n",
      "Probability of certainty was:  0.9861729\n"
     ]
    }
   ],
   "source": [
    "#Generate prediction from model\n",
    "val_max = np.argmax(pred_results[0])\n",
    "\n",
    "for key, val in tokenizer.word_index.items():\n",
    "    if val == val_max:\n",
    "        k = key\n",
    "\n",
    "print(\"Predicted answer is: \", k)\n",
    "print(\"Probability of certainty was: \", pred_results[0][val_max])"
   ]
  },
  {
   "cell_type": "markdown",
   "metadata": {},
   "source": [
    "## Writing Your Own Stories and Questions\n",
    "\n",
    "Remember you can only use words from the existing vocab"
   ]
  },
  {
   "cell_type": "code",
   "execution_count": 66,
   "metadata": {
    "execution": {
     "iopub.execute_input": "2025-08-17T18:55:11.842996Z",
     "iopub.status.busy": "2025-08-17T18:55:11.842502Z",
     "iopub.status.idle": "2025-08-17T18:55:11.866745Z",
     "shell.execute_reply": "2025-08-17T18:55:11.865462Z",
     "shell.execute_reply.started": "2025-08-17T18:55:11.842953Z"
    },
    "trusted": true
   },
   "outputs": [
    {
     "data": {
      "text/plain": [
       "{'.',\n",
       " '?',\n",
       " 'Daniel',\n",
       " 'Is',\n",
       " 'John',\n",
       " 'Mary',\n",
       " 'Sandra',\n",
       " 'apple',\n",
       " 'back',\n",
       " 'bathroom',\n",
       " 'bedroom',\n",
       " 'discarded',\n",
       " 'down',\n",
       " 'dropped',\n",
       " 'football',\n",
       " 'garden',\n",
       " 'got',\n",
       " 'grabbed',\n",
       " 'hallway',\n",
       " 'in',\n",
       " 'journeyed',\n",
       " 'kitchen',\n",
       " 'left',\n",
       " 'milk',\n",
       " 'moved',\n",
       " 'no',\n",
       " 'office',\n",
       " 'picked',\n",
       " 'put',\n",
       " 'the',\n",
       " 'there',\n",
       " 'to',\n",
       " 'took',\n",
       " 'travelled',\n",
       " 'up',\n",
       " 'went',\n",
       " 'yes'}"
      ]
     },
     "execution_count": 66,
     "metadata": {},
     "output_type": "execute_result"
    }
   ],
   "source": [
    "vocab"
   ]
  },
  {
   "cell_type": "code",
   "execution_count": 67,
   "metadata": {
    "execution": {
     "iopub.execute_input": "2025-08-17T18:55:11.868979Z",
     "iopub.status.busy": "2025-08-17T18:55:11.868483Z",
     "iopub.status.idle": "2025-08-17T18:55:11.884641Z",
     "shell.execute_reply": "2025-08-17T18:55:11.883015Z",
     "shell.execute_reply.started": "2025-08-17T18:55:11.868937Z"
    },
    "trusted": true
   },
   "outputs": [
    {
     "data": {
      "text/plain": [
       "['John',\n",
       " 'left',\n",
       " 'the',\n",
       " 'kitchen',\n",
       " '.',\n",
       " 'Sandra',\n",
       " 'dropped',\n",
       " 'the',\n",
       " 'football',\n",
       " 'in',\n",
       " 'the',\n",
       " 'garden',\n",
       " '.']"
      ]
     },
     "execution_count": 67,
     "metadata": {},
     "output_type": "execute_result"
    }
   ],
   "source": [
    "# Note the whitespace of the periods\n",
    "my_story = \"John left the kitchen . Sandra dropped the football in the garden .\"\n",
    "my_story.split()"
   ]
  },
  {
   "cell_type": "code",
   "execution_count": 68,
   "metadata": {
    "execution": {
     "iopub.execute_input": "2025-08-17T18:55:11.886589Z",
     "iopub.status.busy": "2025-08-17T18:55:11.886120Z",
     "iopub.status.idle": "2025-08-17T18:55:11.900781Z",
     "shell.execute_reply": "2025-08-17T18:55:11.899271Z",
     "shell.execute_reply.started": "2025-08-17T18:55:11.886545Z"
    },
    "trusted": true
   },
   "outputs": [],
   "source": [
    "my_question = \"Is the football in the garden ?\""
   ]
  },
  {
   "cell_type": "code",
   "execution_count": 69,
   "metadata": {
    "execution": {
     "iopub.execute_input": "2025-08-17T18:55:11.902618Z",
     "iopub.status.busy": "2025-08-17T18:55:11.902263Z",
     "iopub.status.idle": "2025-08-17T18:55:11.918056Z",
     "shell.execute_reply": "2025-08-17T18:55:11.916879Z",
     "shell.execute_reply.started": "2025-08-17T18:55:11.902591Z"
    },
    "trusted": true
   },
   "outputs": [
    {
     "data": {
      "text/plain": [
       "['Is', 'the', 'football', 'in', 'the', 'garden', '?']"
      ]
     },
     "execution_count": 69,
     "metadata": {},
     "output_type": "execute_result"
    }
   ],
   "source": [
    "my_question.split()"
   ]
  },
  {
   "cell_type": "code",
   "execution_count": 70,
   "metadata": {
    "execution": {
     "iopub.execute_input": "2025-08-17T18:55:11.919861Z",
     "iopub.status.busy": "2025-08-17T18:55:11.919384Z",
     "iopub.status.idle": "2025-08-17T18:55:11.933174Z",
     "shell.execute_reply": "2025-08-17T18:55:11.932050Z",
     "shell.execute_reply.started": "2025-08-17T18:55:11.919832Z"
    },
    "trusted": true
   },
   "outputs": [],
   "source": [
    "mydata = [(my_story.split(),my_question.split(),'yes')]"
   ]
  },
  {
   "cell_type": "code",
   "execution_count": 71,
   "metadata": {
    "execution": {
     "iopub.execute_input": "2025-08-17T18:55:11.935248Z",
     "iopub.status.busy": "2025-08-17T18:55:11.934893Z",
     "iopub.status.idle": "2025-08-17T18:55:11.946224Z",
     "shell.execute_reply": "2025-08-17T18:55:11.944755Z",
     "shell.execute_reply.started": "2025-08-17T18:55:11.935209Z"
    },
    "trusted": true
   },
   "outputs": [],
   "source": [
    "my_story,my_ques,my_ans = vectorize_stories(mydata)"
   ]
  },
  {
   "cell_type": "code",
   "execution_count": 72,
   "metadata": {
    "execution": {
     "iopub.execute_input": "2025-08-17T18:55:11.947901Z",
     "iopub.status.busy": "2025-08-17T18:55:11.947583Z",
     "iopub.status.idle": "2025-08-17T18:55:12.044768Z",
     "shell.execute_reply": "2025-08-17T18:55:12.043419Z",
     "shell.execute_reply.started": "2025-08-17T18:55:11.947874Z"
    },
    "trusted": true
   },
   "outputs": [
    {
     "name": "stdout",
     "output_type": "stream",
     "text": [
      "1/1 [==============================] - 0s 29ms/step\n"
     ]
    }
   ],
   "source": [
    "pred_results = model.predict(([ my_story, my_ques]))"
   ]
  },
  {
   "cell_type": "code",
   "execution_count": 73,
   "metadata": {
    "execution": {
     "iopub.execute_input": "2025-08-17T18:55:12.046396Z",
     "iopub.status.busy": "2025-08-17T18:55:12.046095Z",
     "iopub.status.idle": "2025-08-17T18:55:12.053962Z",
     "shell.execute_reply": "2025-08-17T18:55:12.052206Z",
     "shell.execute_reply.started": "2025-08-17T18:55:12.046371Z"
    },
    "trusted": true
   },
   "outputs": [
    {
     "name": "stdout",
     "output_type": "stream",
     "text": [
      "Predicted answer is:  yes\n",
      "Probability of certainty was:  0.998607\n"
     ]
    }
   ],
   "source": [
    "#Generate prediction from model\n",
    "val_max = np.argmax(pred_results[0])\n",
    "\n",
    "for key, val in tokenizer.word_index.items():\n",
    "    if val == val_max:\n",
    "        k = key\n",
    "\n",
    "print(\"Predicted answer is: \", k)\n",
    "print(\"Probability of certainty was: \", pred_results[0][val_max])"
   ]
  }
 ],
 "metadata": {
  "kaggle": {
   "accelerator": "none",
   "dataSources": [
    {
     "datasetId": 3722739,
     "sourceId": 6472198,
     "sourceType": "datasetVersion"
    },
    {
     "datasetId": 8086805,
     "sourceId": 12790601,
     "sourceType": "datasetVersion"
    }
   ],
   "dockerImageVersionId": 30558,
   "isGpuEnabled": false,
   "isInternetEnabled": true,
   "language": "python",
   "sourceType": "notebook"
  },
  "kernelspec": {
   "display_name": "Python 3",
   "language": "python",
   "name": "python3"
  },
  "language_info": {
   "codemirror_mode": {
    "name": "ipython",
    "version": 3
   },
   "file_extension": ".py",
   "mimetype": "text/x-python",
   "name": "python",
   "nbconvert_exporter": "python",
   "pygments_lexer": "ipython3",
   "version": "3.10.12"
  }
 },
 "nbformat": 4,
 "nbformat_minor": 4
}
